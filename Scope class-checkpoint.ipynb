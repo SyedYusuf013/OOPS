{
 "cells": [
  {
   "cell_type": "code",
   "execution_count": 10,
   "id": "c582dfe1",
   "metadata": {},
   "outputs": [
    {
     "name": "stdout",
     "output_type": "stream",
     "text": [
      "10\n"
     ]
    }
   ],
   "source": [
    "# x=10\n",
    "def show():\n",
    "    x=20\n",
    "show()\n",
    "print(x)"
   ]
  },
  {
   "cell_type": "code",
   "execution_count": 11,
   "id": "dd92630c",
   "metadata": {},
   "outputs": [
    {
     "name": "stdout",
     "output_type": "stream",
     "text": [
      "10 20 4 30\n"
     ]
    }
   ],
   "source": [
    "x=10\n",
    "\n",
    "if (True):\n",
    "    y=20\n",
    "    \n",
    "for i in range(5):\n",
    "    pass\n",
    "\n",
    "while(True):\n",
    "    z=30\n",
    "    break\n",
    "print(x,y,i,z)"
   ]
  },
  {
   "cell_type": "code",
   "execution_count": 13,
   "id": "4211e848",
   "metadata": {},
   "outputs": [
    {
     "name": "stdout",
     "output_type": "stream",
     "text": [
      "20\n"
     ]
    }
   ],
   "source": [
    "x=10\n",
    "def show():\n",
    "    global x;\n",
    "    x=20\n",
    "show()\n",
    "print(x)"
   ]
  },
  {
   "cell_type": "code",
   "execution_count": 14,
   "id": "9331983a",
   "metadata": {},
   "outputs": [
    {
     "name": "stdout",
     "output_type": "stream",
     "text": [
      "200\n",
      "20\n",
      "20\n"
     ]
    }
   ],
   "source": [
    "def show():\n",
    "    x=20\n",
    "    def disp():\n",
    "        x=200\n",
    "        print(x)\n",
    "    disp()\n",
    "    print(x)\n",
    "show()\n",
    "print(x)"
   ]
  },
  {
   "cell_type": "code",
   "execution_count": 15,
   "id": "1d8e73d1",
   "metadata": {},
   "outputs": [
    {
     "name": "stdout",
     "output_type": "stream",
     "text": [
      "200\n",
      "20\n",
      "200\n"
     ]
    }
   ],
   "source": [
    "def show():\n",
    "    x=20\n",
    "    def disp():\n",
    "        global x;\n",
    "        x=200\n",
    "        print(x)\n",
    "    disp()\n",
    "    print(x)\n",
    "show()\n",
    "print(x)"
   ]
  },
  {
   "cell_type": "code",
   "execution_count": 18,
   "id": "9d21ff52",
   "metadata": {},
   "outputs": [
    {
     "name": "stdout",
     "output_type": "stream",
     "text": [
      "200\n",
      "200\n",
      "200\n"
     ]
    }
   ],
   "source": [
    "def show():\n",
    "    x=20\n",
    "    def disp():\n",
    "        nonlocal x;\n",
    "        x=200\n",
    "        print(x)\n",
    "    disp()\n",
    "    print(x)\n",
    "show()\n",
    "print(x)"
   ]
  },
  {
   "cell_type": "code",
   "execution_count": 20,
   "id": "2fa05f10",
   "metadata": {},
   "outputs": [
    {
     "ename": "SyntaxError",
     "evalue": "invalid syntax (Temp/ipykernel_16160/3616968377.py, line 2)",
     "output_type": "error",
     "traceback": [
      "\u001b[1;36m  File \u001b[1;32m\"C:\\Users\\syedf\\AppData\\Local\\Temp/ipykernel_16160/3616968377.py\"\u001b[1;36m, line \u001b[1;32m2\u001b[0m\n\u001b[1;33m    sum=0:\u001b[0m\n\u001b[1;37m         ^\u001b[0m\n\u001b[1;31mSyntaxError\u001b[0m\u001b[1;31m:\u001b[0m invalid syntax\n"
     ]
    }
   ],
   "source": [
    "def add(*x):\n",
    "    sum=0:\n",
    "    for i in x:\n",
    "        sum=sum+1:\n",
    "    print(sum):\n",
    "def sub(x,y):\n",
    "    return(x-y)"
   ]
  },
  {
   "cell_type": "code",
   "execution_count": null,
   "id": "b6871c7d",
   "metadata": {},
   "outputs": [],
   "source": [
    "import arithmetic as ar\n"
   ]
  }
 ],
 "metadata": {
  "kernelspec": {
   "display_name": "Python 3 (ipykernel)",
   "language": "python",
   "name": "python3"
  },
  "language_info": {
   "codemirror_mode": {
    "name": "ipython",
    "version": 3
   },
   "file_extension": ".py",
   "mimetype": "text/x-python",
   "name": "python",
   "nbconvert_exporter": "python",
   "pygments_lexer": "ipython3",
   "version": "3.9.7"
  }
 },
 "nbformat": 4,
 "nbformat_minor": 5
}
