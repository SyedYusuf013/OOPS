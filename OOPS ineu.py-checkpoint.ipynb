{
 "cells": [
  {
   "cell_type": "code",
   "execution_count": 1,
   "id": "ad3f4420",
   "metadata": {},
   "outputs": [],
   "source": [
    "class car:\n",
    "    pass"
   ]
  },
  {
   "cell_type": "code",
   "execution_count": 2,
   "id": "15deea0a",
   "metadata": {},
   "outputs": [],
   "source": [
    "audiq7 = car()"
   ]
  },
  {
   "cell_type": "code",
   "execution_count": 3,
   "id": "1f39070f",
   "metadata": {},
   "outputs": [
    {
     "data": {
      "text/plain": [
       "<__main__.car at 0x207172a8370>"
      ]
     },
     "execution_count": 3,
     "metadata": {},
     "output_type": "execute_result"
    }
   ],
   "source": [
    "audiq7"
   ]
  },
  {
   "cell_type": "code",
   "execution_count": 8,
   "id": "3d29dad0",
   "metadata": {},
   "outputs": [],
   "source": [
    "audiq7.milage = 10\n",
    "audiq7.year= 2020\n",
    "audiq7.make = 345\n",
    "audiq7.model =\"dfdf\""
   ]
  },
  {
   "cell_type": "code",
   "execution_count": 9,
   "id": "56e0346a",
   "metadata": {},
   "outputs": [
    {
     "data": {
      "text/plain": [
       "10"
      ]
     },
     "execution_count": 9,
     "metadata": {},
     "output_type": "execute_result"
    }
   ],
   "source": [
    " audiq7.milage"
   ]
  },
  {
   "cell_type": "code",
   "execution_count": 11,
   "id": "5b54762b",
   "metadata": {},
   "outputs": [
    {
     "data": {
      "text/plain": [
       "2020"
      ]
     },
     "execution_count": 11,
     "metadata": {},
     "output_type": "execute_result"
    }
   ],
   "source": [
    "audiq7.year"
   ]
  },
  {
   "cell_type": "code",
   "execution_count": 12,
   "id": "b1381bd2",
   "metadata": {},
   "outputs": [],
   "source": [
    "nano = car()"
   ]
  },
  {
   "cell_type": "code",
   "execution_count": 13,
   "id": "48ae6c80",
   "metadata": {},
   "outputs": [
    {
     "data": {
      "text/plain": [
       "<__main__.car at 0x207195cc370>"
      ]
     },
     "execution_count": 13,
     "metadata": {},
     "output_type": "execute_result"
    }
   ],
   "source": [
    "nano"
   ]
  },
  {
   "cell_type": "code",
   "execution_count": 14,
   "id": "3e12ce83",
   "metadata": {},
   "outputs": [],
   "source": [
    "nano.milage=20\n",
    "nano.year=2022\n",
    "nano.make=625\n",
    "nano.model=\"jdgfjs\"\n",
    "nano.engine=33164"
   ]
  },
  {
   "cell_type": "code",
   "execution_count": 15,
   "id": "25ae35af",
   "metadata": {},
   "outputs": [
    {
     "data": {
      "text/plain": [
       "'jdgfjs'"
      ]
     },
     "execution_count": 15,
     "metadata": {},
     "output_type": "execute_result"
    }
   ],
   "source": [
    "nano.model"
   ]
  },
  {
   "cell_type": "code",
   "execution_count": 16,
   "id": "23be9f69",
   "metadata": {},
   "outputs": [
    {
     "data": {
      "text/plain": [
       "2022"
      ]
     },
     "execution_count": 16,
     "metadata": {},
     "output_type": "execute_result"
    }
   ],
   "source": [
    "audiq7.year\n",
    "nano.year"
   ]
  },
  {
   "cell_type": "code",
   "execution_count": 17,
   "id": "a6514f9e",
   "metadata": {},
   "outputs": [
    {
     "name": "stdout",
     "output_type": "stream",
     "text": [
      "20 10\n"
     ]
    }
   ],
   "source": [
    "print(nano.milage,audiq7.milage)"
   ]
  },
  {
   "cell_type": "code",
   "execution_count": 21,
   "id": "5e67bed7",
   "metadata": {},
   "outputs": [],
   "source": [
    "class car:\n",
    "    def __init__(self , milage , year , make , model):\n",
    "        self.milage = milage\n",
    "        self.year = year \n",
    "        self.make = make\n",
    "        self.model = model"
   ]
  },
  {
   "cell_type": "code",
   "execution_count": 22,
   "id": "fc70400a",
   "metadata": {},
   "outputs": [
    {
     "ename": "TypeError",
     "evalue": "__init__() missing 4 required positional arguments: 'milage', 'year', 'make', and 'model'",
     "output_type": "error",
     "traceback": [
      "\u001b[1;31m---------------------------------------------------------------------------\u001b[0m",
      "\u001b[1;31mTypeError\u001b[0m                                 Traceback (most recent call last)",
      "\u001b[1;32m~\\AppData\\Local\\Temp/ipykernel_22760/583999665.py\u001b[0m in \u001b[0;36m<module>\u001b[1;34m\u001b[0m\n\u001b[1;32m----> 1\u001b[1;33m \u001b[0mnano1\u001b[0m \u001b[1;33m=\u001b[0m \u001b[0mcar\u001b[0m\u001b[1;33m(\u001b[0m\u001b[1;33m)\u001b[0m\u001b[1;33m\u001b[0m\u001b[1;33m\u001b[0m\u001b[0m\n\u001b[0m",
      "\u001b[1;31mTypeError\u001b[0m: __init__() missing 4 required positional arguments: 'milage', 'year', 'make', and 'model'"
     ]
    }
   ],
   "source": [
    "nano1 = car()"
   ]
  },
  {
   "cell_type": "code",
   "execution_count": 25,
   "id": "744905a2",
   "metadata": {},
   "outputs": [],
   "source": [
    "nano1 = car(20,2022,346,\"fgdffg\")\n",
    "audiq71 = car(22,2032,646,\"fdgkj\")\n",
    "\n"
   ]
  },
  {
   "cell_type": "markdown",
   "id": "b02de7c2",
   "metadata": {},
   "source": []
  },
  {
   "cell_type": "code",
   "execution_count": 26,
   "id": "d8a9ce0c",
   "metadata": {},
   "outputs": [
    {
     "data": {
      "text/plain": [
       "20"
      ]
     },
     "execution_count": 26,
     "metadata": {},
     "output_type": "execute_result"
    }
   ],
   "source": [
    "nano1.milage"
   ]
  },
  {
   "cell_type": "code",
   "execution_count": 28,
   "id": "3832055d",
   "metadata": {},
   "outputs": [],
   "source": [
    "class car:\n",
    "    def __init__(a , milage , year , make , model):\n",
    "        a.milage = milage\n",
    "        a.year = year \n",
    "        a.make = make\n",
    "        a.model = model"
   ]
  },
  {
   "cell_type": "code",
   "execution_count": 29,
   "id": "efcf02f6",
   "metadata": {},
   "outputs": [],
   "source": [
    "nano1 = car(20,2022,346,\"fgdffg\")\n",
    "audiq71 = car(22,2032,646,\"fdgkj\")\n",
    "nano2 = car(20,2022,346,\"fgdffg\")\n",
    "audiq72 = car(22,2032,646,\"fdgkj\")\n",
    "nano3 = car(20,2022,346,\"fgdffg\")\n",
    "audiq73 = car(22,2032,646,\"fdgkj\")\n",
    "nano4 = car(20,2022,346,\"fgdffg\")\n",
    "audiq74 = car(22,2032,646,\"fdgkj\")\n",
    "nano5 = car(20,2022,346,\"fgdffg\")\n",
    "audiq75 = car(22,2032,646,\"fdgkj\")\n",
    "nano6 = car(20,2022,346,\"fgdffg\")\n",
    "audiq76 = car(22,2032,646,\"fdgkj\")\n"
   ]
  },
  {
   "cell_type": "code",
   "execution_count": 32,
   "id": "50c690a5",
   "metadata": {},
   "outputs": [],
   "source": [
    "class car:\n",
    "    def __init__(a , m , y , ma , mo):\n",
    "        a.milage = m\n",
    "        a.year = y \n",
    "        a.make = ma\n",
    "        a.model = mo"
   ]
  },
  {
   "cell_type": "code",
   "execution_count": 33,
   "id": "6248377e",
   "metadata": {},
   "outputs": [],
   "source": [
    "nano6 = car(20,2022,346,\"fgdffg\")"
   ]
  },
  {
   "cell_type": "code",
   "execution_count": 35,
   "id": "8f5d2529",
   "metadata": {},
   "outputs": [
    {
     "ename": "AttributeError",
     "evalue": "'car' object has no attribute 'm'",
     "output_type": "error",
     "traceback": [
      "\u001b[1;31m---------------------------------------------------------------------------\u001b[0m",
      "\u001b[1;31mAttributeError\u001b[0m                            Traceback (most recent call last)",
      "\u001b[1;32m~\\AppData\\Local\\Temp/ipykernel_22760/2728436304.py\u001b[0m in \u001b[0;36m<module>\u001b[1;34m\u001b[0m\n\u001b[1;32m----> 1\u001b[1;33m \u001b[0mnano6\u001b[0m\u001b[1;33m.\u001b[0m\u001b[0mm\u001b[0m\u001b[1;33m\u001b[0m\u001b[1;33m\u001b[0m\u001b[0m\n\u001b[0m",
      "\u001b[1;31mAttributeError\u001b[0m: 'car' object has no attribute 'm'"
     ]
    }
   ],
   "source": [
    "nano6.m"
   ]
  },
  {
   "cell_type": "code",
   "execution_count": 36,
   "id": "cf320ef9",
   "metadata": {},
   "outputs": [
    {
     "data": {
      "text/plain": [
       "20"
      ]
     },
     "execution_count": 36,
     "metadata": {},
     "output_type": "execute_result"
    }
   ],
   "source": [
    "nano6.milage"
   ]
  },
  {
   "cell_type": "code",
   "execution_count": 42,
   "id": "4a61bc56",
   "metadata": {},
   "outputs": [],
   "source": [
    "class car:\n",
    "    def __init__(a , m , y , ma , mo):\n",
    "        a.milage = m\n",
    "        a.year = y \n",
    "        a.make = ma\n",
    "        a.model = mo\n",
    "    \n",
    "    def age(self, current_year):\n",
    "        return current_year - self.year"
   ]
  },
  {
   "cell_type": "code",
   "execution_count": 43,
   "id": "bf9aab61",
   "metadata": {},
   "outputs": [],
   "source": [
    "nano6 = car(20,2022,346,\"fgdffg\")"
   ]
  },
  {
   "cell_type": "code",
   "execution_count": 44,
   "id": "d1797e03",
   "metadata": {},
   "outputs": [
    {
     "data": {
      "text/plain": [
       "-1"
      ]
     },
     "execution_count": 44,
     "metadata": {},
     "output_type": "execute_result"
    }
   ],
   "source": [
    "nano6.age(2021)"
   ]
  },
  {
   "cell_type": "code",
   "execution_count": 45,
   "id": "35c6871a",
   "metadata": {},
   "outputs": [
    {
     "data": {
      "text/plain": [
       "0"
      ]
     },
     "execution_count": 45,
     "metadata": {},
     "output_type": "execute_result"
    }
   ],
   "source": [
    "nano6.age(2022)"
   ]
  },
  {
   "cell_type": "code",
   "execution_count": 46,
   "id": "ea77a15c",
   "metadata": {},
   "outputs": [
    {
     "data": {
      "text/plain": [
       "1"
      ]
     },
     "execution_count": 46,
     "metadata": {},
     "output_type": "execute_result"
    }
   ],
   "source": [
    "nano6.age(2023)"
   ]
  },
  {
   "cell_type": "code",
   "execution_count": 56,
   "id": "1c5a2da5",
   "metadata": {},
   "outputs": [],
   "source": [
    "class car:\n",
    "    def __init__(a , m , y , ma , mo):\n",
    "        a.milage = m\n",
    "        a.year = y \n",
    "        a.make = ma\n",
    "        a.model = mo\n",
    "    \n",
    "    def age(self, current_year):\n",
    "        return current_year - self.year\n",
    "    \n",
    "    \n",
    "    def milage1(self):\n",
    "        print(\"print a milage of car \", self.milage)\n",
    "        #return self.milage"
   ]
  },
  {
   "cell_type": "code",
   "execution_count": 57,
   "id": "c5a2f437",
   "metadata": {},
   "outputs": [],
   "source": [
    "nano6 = car(20,2022,346,\"fgdffg\")"
   ]
  },
  {
   "cell_type": "code",
   "execution_count": 58,
   "id": "739d0816",
   "metadata": {},
   "outputs": [
    {
     "name": "stdout",
     "output_type": "stream",
     "text": [
      "print a milage of car  20\n"
     ]
    }
   ],
   "source": [
    "nano6.milage1()"
   ]
  },
  {
   "cell_type": "code",
   "execution_count": 59,
   "id": "a28e1db4",
   "metadata": {},
   "outputs": [
    {
     "data": {
      "text/plain": [
       "<__main__.car at 0x207199a2d00>"
      ]
     },
     "execution_count": 59,
     "metadata": {},
     "output_type": "execute_result"
    }
   ],
   "source": [
    "nano6"
   ]
  },
  {
   "cell_type": "code",
   "execution_count": 67,
   "id": "c60c7542",
   "metadata": {},
   "outputs": [],
   "source": [
    "class car:\n",
    "    def __init__(a , m , y , ma , mo):\n",
    "        a.milage = m\n",
    "        a.year = y \n",
    "        a.make = ma\n",
    "        a.model = mo\n",
    "    \n",
    "    def age(self, current_year):\n",
    "        return current_year - self.year\n",
    "    \n",
    "    \n",
    "    def milage1(self):\n",
    "        print(\"print a milage of car \", self.milage)\n",
    "        #return self.milage\n",
    "        \n",
    "    def __str__(c):\n",
    "        return \"this is my car class i have created \""
   ]
  },
  {
   "cell_type": "code",
   "execution_count": 68,
   "id": "993c4b82",
   "metadata": {},
   "outputs": [],
   "source": [
    "nano6 = car(20,2022,346,\"fgdffg\")"
   ]
  },
  {
   "cell_type": "code",
   "execution_count": 69,
   "id": "7bf15d93",
   "metadata": {},
   "outputs": [
    {
     "name": "stdout",
     "output_type": "stream",
     "text": [
      "print a milage of car  20\n"
     ]
    }
   ],
   "source": [
    "nano6.milage1()"
   ]
  },
  {
   "cell_type": "code",
   "execution_count": 70,
   "id": "f94a253d",
   "metadata": {},
   "outputs": [
    {
     "data": {
      "text/plain": [
       "0"
      ]
     },
     "execution_count": 70,
     "metadata": {},
     "output_type": "execute_result"
    }
   ],
   "source": [
    "nano6.age(2022)"
   ]
  },
  {
   "cell_type": "code",
   "execution_count": 71,
   "id": "c0c4065f",
   "metadata": {},
   "outputs": [
    {
     "name": "stdout",
     "output_type": "stream",
     "text": [
      "this is my car class i have created \n"
     ]
    }
   ],
   "source": [
    "print(nano6)"
   ]
  },
  {
   "cell_type": "code",
   "execution_count": 72,
   "id": "757c70d8",
   "metadata": {},
   "outputs": [
    {
     "data": {
      "text/plain": [
       "<__main__.car at 0x2071999f820>"
      ]
     },
     "execution_count": 72,
     "metadata": {},
     "output_type": "execute_result"
    }
   ],
   "source": [
    "nano6"
   ]
  },
  {
   "cell_type": "code",
   "execution_count": 73,
   "id": "07dce609",
   "metadata": {},
   "outputs": [],
   "source": [
    "class student:\n",
    "    \n",
    "    def __init__(self , name , rollno , joining_date , current_topic):\n",
    "        self.name = name\n",
    "        self.rollno = rollno\n",
    "        self.joining_date = joining_date\n",
    "        self.current_topic = current_topic\n",
    "        \n",
    "    def crt_topic(self):\n",
    "        print(\"current topic discussed in my class is \" , self.current_topic)\n",
    "        \n",
    "    def str_rollno(self):\n",
    "        \n",
    "        if type(self.rollno) == str :\n",
    "            print(\"do nothing \")\n",
    "            \n",
    "        else :\n",
    "            return str(self.rollno)\n",
    "        \n",
    "    def duration(self,current_date):\n",
    "        print(\"duration of student in my class is \" , current_date - self.joining_date)\n",
    "        \n",
    "    def __str__(self):\n",
    "        \n",
    "        \n",
    "        return \"this is student class where they can try to input there own data and they can try to fetch it \"\n",
    "    "
   ]
  },
  {
   "cell_type": "code",
   "execution_count": 74,
   "id": "92a22e63",
   "metadata": {},
   "outputs": [],
   "source": [
    "siri = student(\"siri\" , 5155464 , 2022 , \"oops\")"
   ]
  },
  {
   "cell_type": "code",
   "execution_count": 75,
   "id": "2112dbf2",
   "metadata": {},
   "outputs": [
    {
     "name": "stdout",
     "output_type": "stream",
     "text": [
      "duration of student in my class is  0\n"
     ]
    }
   ],
   "source": [
    "siri.duration(2022)"
   ]
  },
  {
   "cell_type": "code",
   "execution_count": 77,
   "id": "f2945997",
   "metadata": {},
   "outputs": [
    {
     "data": {
      "text/plain": [
       "'5155464'"
      ]
     },
     "execution_count": 77,
     "metadata": {},
     "output_type": "execute_result"
    }
   ],
   "source": [
    "siri.str_rollno()"
   ]
  },
  {
   "cell_type": "code",
   "execution_count": 78,
   "id": "ff65e703",
   "metadata": {},
   "outputs": [
    {
     "name": "stdout",
     "output_type": "stream",
     "text": [
      "this is student class where they can try to input there own data and they can try to fetch it \n"
     ]
    }
   ],
   "source": [
    "print(siri)"
   ]
  },
  {
   "cell_type": "code",
   "execution_count": 88,
   "id": "3741b7ca",
   "metadata": {},
   "outputs": [],
   "source": [
    "class student:\n",
    "    \n",
    "    def __init__(self , name , rollno , joining_date , current_topic):\n",
    "        self.name = name\n",
    "        self.rollno = rollno\n",
    "        self.joining_date = joining_date\n",
    "        self.current_topic = current_topic\n",
    "        \n",
    "        \n",
    "    def name_Parsing(self):\n",
    "        if type(self.name) == list:\n",
    "            for i in self.name :\n",
    "                print(\"name of the student \", i)\n",
    "        else :\n",
    "            print(\"provided name is not in a form of list \")\n",
    "        \n",
    "        \n",
    "        \n",
    "        \n",
    "    def crt_topic(self):\n",
    "        print(\"current topic discussed in my class is \" , self.current_topic)\n",
    "        \n",
    "    def str_rollno(self):\n",
    "        \n",
    "        try :\n",
    "            \n",
    "            if type(self.rollno) == str :\n",
    "                print(\"do nothing \")\n",
    "            \n",
    "            else :\n",
    "                return str(self.rollno)\n",
    "        except Exception as e :\n",
    "            print(\"this is my error msg \" , e )\n",
    "        \n",
    "    def duration(self,current_date):\n",
    "        print(\"duration of student in my class is \" , current_date - self.joining_date)\n",
    "        \n",
    "    def __str__(self):\n",
    "        \n",
    "        \n",
    "        return \"this is student class where they can try to input there own data and they can try to fetch it \"\n",
    "    "
   ]
  },
  {
   "cell_type": "code",
   "execution_count": 89,
   "id": "31972911",
   "metadata": {},
   "outputs": [],
   "source": [
    "\n",
    "\n",
    "siri = student(\"siri\" ,\"#####\", 2022 , \"oops\")"
   ]
  },
  {
   "cell_type": "code",
   "execution_count": 90,
   "id": "3e80912f",
   "metadata": {},
   "outputs": [
    {
     "name": "stdout",
     "output_type": "stream",
     "text": [
      "duration of student in my class is  0\n"
     ]
    }
   ],
   "source": [
    "siri.duration(2022)"
   ]
  },
  {
   "cell_type": "code",
   "execution_count": 91,
   "id": "43698285",
   "metadata": {},
   "outputs": [
    {
     "name": "stdout",
     "output_type": "stream",
     "text": [
      "do nothing \n"
     ]
    }
   ],
   "source": [
    "siri.str_rollno()\n"
   ]
  },
  {
   "cell_type": "code",
   "execution_count": 92,
   "id": "2897583f",
   "metadata": {},
   "outputs": [
    {
     "name": "stdout",
     "output_type": "stream",
     "text": [
      "this is student class where they can try to input there own data and they can try to fetch it \n"
     ]
    }
   ],
   "source": [
    "print(siri)"
   ]
  },
  {
   "cell_type": "code",
   "execution_count": 93,
   "id": "91ed4e2b",
   "metadata": {},
   "outputs": [],
   "source": [
    "major = student (\"major\",\"sjhdsjkd\",5164,265)"
   ]
  },
  {
   "cell_type": "code",
   "execution_count": 94,
   "id": "f0f4a594",
   "metadata": {},
   "outputs": [],
   "source": [
    "pawan = student([\"naveen\",\"roy\",\"himansh\",\"pober \" ], [316,512,643,646,613],2022,\"oops\")"
   ]
  },
  {
   "cell_type": "code",
   "execution_count": 96,
   "id": "93a94b50",
   "metadata": {},
   "outputs": [
    {
     "name": "stdout",
     "output_type": "stream",
     "text": [
      "name of the student  naveen\n",
      "name of the student  roy\n",
      "name of the student  himansh\n",
      "name of the student  pober \n"
     ]
    }
   ],
   "source": [
    "pawan.name_Parsing()"
   ]
  },
  {
   "cell_type": "code",
   "execution_count": null,
   "id": "1b2b66dc",
   "metadata": {},
   "outputs": [],
   "source": [
    " class data:\n",
    "        \n",
    "        \n",
    "    def __init__(self , File_Name , File_Type , Date , Size):\n",
    "        self.File_Name  = File_Name\n",
    "        self.File_Type = File_Type\n",
    "        self.Date = Date\n",
    "        self.Size = Size\n",
    "        \n",
    "        \n",
    "    def File_Open(self):\n",
    "        f=open(self.File_Name,\"w\")\n",
    "        f.write(\"this is my functiion\")\n",
    "        f.close()\n",
    "        \n",
    "        \n",
    "    def File_Read(self):\n",
    "        f=open(self.File_Name,\"r\")\n",
    "        print(f.read())\n",
    "        f.close()\n",
    "        \n",
    "        \n",
    "    def File_Append(self):\n",
    "        f=open(self.File_Name,\"a\")\n",
    "        f.write(\"append something in my file\")\n",
    "        f.close()"
   ]
  },
  {
   "cell_type": "code",
   "execution_count": 6,
   "id": "b0edfad5",
   "metadata": {},
   "outputs": [
    {
     "ename": "SyntaxError",
     "evalue": "invalid syntax (Temp/ipykernel_25060/3628424025.py, line 2)",
     "output_type": "error",
     "traceback": [
      "\u001b[1;36m  File \u001b[1;32m\"C:\\Users\\syedf\\AppData\\Local\\Temp/ipykernel_25060/3628424025.py\"\u001b[1;36m, line \u001b[1;32m2\u001b[0m\n\u001b[1;33m    if (\"kest.txt\") not exist:\u001b[0m\n\u001b[1;37m                        ^\u001b[0m\n\u001b[1;31mSyntaxError\u001b[0m\u001b[1;31m:\u001b[0m invalid syntax\n"
     ]
    }
   ],
   "source": [
    "def File_open(f=open(\"kest.txt\",\"w\")):\n",
    "    if (\"kest.txt\") not exist:\n",
    "        print(\"create file \")\n",
    "        \n",
    "    else :\n",
    "        f=open(\"kest.txt\",\"w\")\n",
    "        print(\"write something in file\")\n",
    "    \n"
   ]
  },
  {
   "cell_type": "code",
   "execution_count": null,
   "id": "deb8e06c",
   "metadata": {},
   "outputs": [],
   "source": [
    "with open"
   ]
  },
  {
   "cell_type": "code",
   "execution_count": 6,
   "id": "3ef526cf",
   "metadata": {},
   "outputs": [],
   "source": [
    "import logging as lg\n",
    "lg.basicConfig(filename = \"OOPS.log\",level = lg.ERROR)\n",
    "class data:\n",
    "    def __init__(self,filename,filetype,data,size):\n",
    "        self.filename=filename\n",
    "        self.filetype=filetype\n",
    "        self.data=data\n",
    "        self.size=size\n",
    "        \n",
    "    \n",
    "    def file_open(self):\n",
    "        try:\n",
    "            with open(self.filename+self.filetype,\"w\") as f:\n",
    "                f.write(self.data)\n",
    "        except exception as e:\n",
    "            self.logging(e)\n",
    "            \n",
    "            \n",
    "    def file_read(self):\n",
    "        try:\n",
    "            with open(self.filename+self.filetype,\"r\") as f:\n",
    "                f.read()\n",
    "        except filenotfounderror as e:\n",
    "            self.logging(e)\n",
    "        except exception as e:\n",
    "            self.logging(e)\n",
    "            \n",
    "    def file_append(self,data):\n",
    "        try:\n",
    "            with open(self.filename+self.filetype,\"a\") as f:\n",
    "                f.write(data)\n",
    "        except filenotfounderror as e:\n",
    "                self.logging(e)\n",
    "        except exception as e:\n",
    "                self.logging(e)\n",
    "                \n",
    "                \n",
    "    def logging(self,log):\n",
    "        lg.error(log)\n",
    "        \n",
    "        \n",
    "d=data('d','.txt','hi',2)\n",
    "d.file_open()\n",
    "d.file_append(' op')"
   ]
  },
  {
   "cell_type": "code",
   "execution_count": null,
   "id": "e2bcf2fc",
   "metadata": {},
   "outputs": [],
   "source": []
  }
 ],
 "metadata": {
  "kernelspec": {
   "display_name": "Python 3 (ipykernel)",
   "language": "python",
   "name": "python3"
  },
  "language_info": {
   "codemirror_mode": {
    "name": "ipython",
    "version": 3
   },
   "file_extension": ".py",
   "mimetype": "text/x-python",
   "name": "python",
   "nbconvert_exporter": "python",
   "pygments_lexer": "ipython3",
   "version": "3.9.7"
  }
 },
 "nbformat": 4,
 "nbformat_minor": 5
}
